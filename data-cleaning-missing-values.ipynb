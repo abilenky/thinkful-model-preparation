{
 "cells": [
  {
   "cell_type": "code",
   "execution_count": 121,
   "metadata": {},
   "outputs": [],
   "source": [
    "import pandas as pd\n",
    "import numpy as np\n",
    "import matplotlib.pyplot as plt\n",
    "from sqlalchemy import create_engine\n",
    "import warnings\n",
    "\n",
    "warnings.filterwarnings('ignore')"
   ]
  },
  {
   "cell_type": "code",
   "execution_count": 100,
   "metadata": {},
   "outputs": [],
   "source": [
    "postgres_user = 'dsbc_student'\n",
    "postgres_pw = '7*.8G9QH21'\n",
    "postgres_host = '142.93.121.174'\n",
    "postgres_port = '5432'\n",
    "postgres_db = 'useducation'\n",
    "\n",
    "db_url = f'postgresql://{postgres_user}:{postgres_pw}@{postgres_host}:{postgres_port}/{postgres_db}'\n",
    "\n",
    "engine = create_engine(db_url)\n",
    "\n",
    "dsbc_df = pd.read_sql_query('SELECT * FROM useducation;', con=engine)\n",
    "\n",
    "# close the db connetion\n",
    "engine.dispose()"
   ]
  },
  {
   "cell_type": "code",
   "execution_count": 101,
   "metadata": {},
   "outputs": [
    {
     "data": {
      "text/html": [
       "<div>\n",
       "<style scoped>\n",
       "    .dataframe tbody tr th:only-of-type {\n",
       "        vertical-align: middle;\n",
       "    }\n",
       "\n",
       "    .dataframe tbody tr th {\n",
       "        vertical-align: top;\n",
       "    }\n",
       "\n",
       "    .dataframe thead th {\n",
       "        text-align: right;\n",
       "    }\n",
       "</style>\n",
       "<table border=\"1\" class=\"dataframe\">\n",
       "  <thead>\n",
       "    <tr style=\"text-align: right;\">\n",
       "      <th></th>\n",
       "      <th>PRIMARY_KEY</th>\n",
       "      <th>STATE</th>\n",
       "      <th>YEAR</th>\n",
       "      <th>ENROLL</th>\n",
       "      <th>TOTAL_REVENUE</th>\n",
       "      <th>FEDERAL_REVENUE</th>\n",
       "      <th>STATE_REVENUE</th>\n",
       "      <th>LOCAL_REVENUE</th>\n",
       "      <th>TOTAL_EXPENDITURE</th>\n",
       "      <th>INSTRUCTION_EXPENDITURE</th>\n",
       "      <th>...</th>\n",
       "      <th>GRADES_4_G</th>\n",
       "      <th>GRADES_8_G</th>\n",
       "      <th>GRADES_12_G</th>\n",
       "      <th>GRADES_1_8_G</th>\n",
       "      <th>GRADES_9_12_G</th>\n",
       "      <th>GRADES_ALL_G</th>\n",
       "      <th>AVG_MATH_4_SCORE</th>\n",
       "      <th>AVG_MATH_8_SCORE</th>\n",
       "      <th>AVG_READING_4_SCORE</th>\n",
       "      <th>AVG_READING_8_SCORE</th>\n",
       "    </tr>\n",
       "  </thead>\n",
       "  <tbody>\n",
       "    <tr>\n",
       "      <th>0</th>\n",
       "      <td>1992_ALABAMA</td>\n",
       "      <td>ALABAMA</td>\n",
       "      <td>1992</td>\n",
       "      <td>NaN</td>\n",
       "      <td>2678885.0</td>\n",
       "      <td>304177.0</td>\n",
       "      <td>1659028.0</td>\n",
       "      <td>715680.0</td>\n",
       "      <td>2653798.0</td>\n",
       "      <td>1481703.0</td>\n",
       "      <td>...</td>\n",
       "      <td>57948.0</td>\n",
       "      <td>58025.0</td>\n",
       "      <td>41167.0</td>\n",
       "      <td>471564.0</td>\n",
       "      <td>196386.0</td>\n",
       "      <td>676174.0</td>\n",
       "      <td>208.327876</td>\n",
       "      <td>252.187522</td>\n",
       "      <td>207.963517</td>\n",
       "      <td>NaN</td>\n",
       "    </tr>\n",
       "    <tr>\n",
       "      <th>1</th>\n",
       "      <td>1992_ALASKA</td>\n",
       "      <td>ALASKA</td>\n",
       "      <td>1992</td>\n",
       "      <td>NaN</td>\n",
       "      <td>1049591.0</td>\n",
       "      <td>106780.0</td>\n",
       "      <td>720711.0</td>\n",
       "      <td>222100.0</td>\n",
       "      <td>972488.0</td>\n",
       "      <td>498362.0</td>\n",
       "      <td>...</td>\n",
       "      <td>9748.0</td>\n",
       "      <td>8789.0</td>\n",
       "      <td>6714.0</td>\n",
       "      <td>79117.0</td>\n",
       "      <td>30847.0</td>\n",
       "      <td>112335.0</td>\n",
       "      <td>NaN</td>\n",
       "      <td>NaN</td>\n",
       "      <td>NaN</td>\n",
       "      <td>258.859712</td>\n",
       "    </tr>\n",
       "    <tr>\n",
       "      <th>2</th>\n",
       "      <td>1992_ARIZONA</td>\n",
       "      <td>ARIZONA</td>\n",
       "      <td>1992</td>\n",
       "      <td>NaN</td>\n",
       "      <td>3258079.0</td>\n",
       "      <td>297888.0</td>\n",
       "      <td>1369815.0</td>\n",
       "      <td>1590376.0</td>\n",
       "      <td>3401580.0</td>\n",
       "      <td>1435908.0</td>\n",
       "      <td>...</td>\n",
       "      <td>55433.0</td>\n",
       "      <td>49081.0</td>\n",
       "      <td>37410.0</td>\n",
       "      <td>437127.0</td>\n",
       "      <td>175210.0</td>\n",
       "      <td>614881.0</td>\n",
       "      <td>215.253932</td>\n",
       "      <td>265.366278</td>\n",
       "      <td>206.212716</td>\n",
       "      <td>262.169895</td>\n",
       "    </tr>\n",
       "    <tr>\n",
       "      <th>3</th>\n",
       "      <td>1992_ARKANSAS</td>\n",
       "      <td>ARKANSAS</td>\n",
       "      <td>1992</td>\n",
       "      <td>NaN</td>\n",
       "      <td>1711959.0</td>\n",
       "      <td>178571.0</td>\n",
       "      <td>958785.0</td>\n",
       "      <td>574603.0</td>\n",
       "      <td>1743022.0</td>\n",
       "      <td>964323.0</td>\n",
       "      <td>...</td>\n",
       "      <td>34632.0</td>\n",
       "      <td>36011.0</td>\n",
       "      <td>27651.0</td>\n",
       "      <td>281338.0</td>\n",
       "      <td>123113.0</td>\n",
       "      <td>405259.0</td>\n",
       "      <td>210.206028</td>\n",
       "      <td>256.312090</td>\n",
       "      <td>208.634458</td>\n",
       "      <td>264.619665</td>\n",
       "    </tr>\n",
       "    <tr>\n",
       "      <th>4</th>\n",
       "      <td>1992_CALIFORNIA</td>\n",
       "      <td>CALIFORNIA</td>\n",
       "      <td>1992</td>\n",
       "      <td>NaN</td>\n",
       "      <td>26260025.0</td>\n",
       "      <td>2072470.0</td>\n",
       "      <td>16546514.0</td>\n",
       "      <td>7641041.0</td>\n",
       "      <td>27138832.0</td>\n",
       "      <td>14358922.0</td>\n",
       "      <td>...</td>\n",
       "      <td>418418.0</td>\n",
       "      <td>363296.0</td>\n",
       "      <td>270675.0</td>\n",
       "      <td>3286034.0</td>\n",
       "      <td>1372011.0</td>\n",
       "      <td>4717112.0</td>\n",
       "      <td>208.398961</td>\n",
       "      <td>260.892247</td>\n",
       "      <td>196.764414</td>\n",
       "      <td>NaN</td>\n",
       "    </tr>\n",
       "    <tr>\n",
       "      <th>5</th>\n",
       "      <td>1992_COLORADO</td>\n",
       "      <td>COLORADO</td>\n",
       "      <td>1992</td>\n",
       "      <td>NaN</td>\n",
       "      <td>3185173.0</td>\n",
       "      <td>163253.0</td>\n",
       "      <td>1307986.0</td>\n",
       "      <td>1713934.0</td>\n",
       "      <td>3264826.0</td>\n",
       "      <td>1642466.0</td>\n",
       "      <td>...</td>\n",
       "      <td>50648.0</td>\n",
       "      <td>45025.0</td>\n",
       "      <td>34533.0</td>\n",
       "      <td>394904.0</td>\n",
       "      <td>160299.0</td>\n",
       "      <td>562613.0</td>\n",
       "      <td>221.023429</td>\n",
       "      <td>272.398433</td>\n",
       "      <td>213.480890</td>\n",
       "      <td>266.419687</td>\n",
       "    </tr>\n",
       "    <tr>\n",
       "      <th>6</th>\n",
       "      <td>1992_CONNECTICUT</td>\n",
       "      <td>CONNECTICUT</td>\n",
       "      <td>1992</td>\n",
       "      <td>NaN</td>\n",
       "      <td>3834302.0</td>\n",
       "      <td>143542.0</td>\n",
       "      <td>1342539.0</td>\n",
       "      <td>2348221.0</td>\n",
       "      <td>3721338.0</td>\n",
       "      <td>2148041.0</td>\n",
       "      <td>...</td>\n",
       "      <td>38058.0</td>\n",
       "      <td>33691.0</td>\n",
       "      <td>28366.0</td>\n",
       "      <td>304284.0</td>\n",
       "      <td>126917.0</td>\n",
       "      <td>436932.0</td>\n",
       "      <td>226.798480</td>\n",
       "      <td>273.739345</td>\n",
       "      <td>222.417599</td>\n",
       "      <td>264.713904</td>\n",
       "    </tr>\n",
       "    <tr>\n",
       "      <th>7</th>\n",
       "      <td>1992_DELAWARE</td>\n",
       "      <td>DELAWARE</td>\n",
       "      <td>1992</td>\n",
       "      <td>NaN</td>\n",
       "      <td>645233.0</td>\n",
       "      <td>45945.0</td>\n",
       "      <td>420942.0</td>\n",
       "      <td>178346.0</td>\n",
       "      <td>638784.0</td>\n",
       "      <td>372722.0</td>\n",
       "      <td>...</td>\n",
       "      <td>8272.0</td>\n",
       "      <td>8012.0</td>\n",
       "      <td>6129.0</td>\n",
       "      <td>67495.0</td>\n",
       "      <td>28338.0</td>\n",
       "      <td>96296.0</td>\n",
       "      <td>217.899972</td>\n",
       "      <td>262.868585</td>\n",
       "      <td>206.389052</td>\n",
       "      <td>261.577921</td>\n",
       "    </tr>\n",
       "    <tr>\n",
       "      <th>8</th>\n",
       "      <td>1992_DISTRICT_OF_COLUMBIA</td>\n",
       "      <td>DISTRICT_OF_COLUMBIA</td>\n",
       "      <td>1992</td>\n",
       "      <td>NaN</td>\n",
       "      <td>709480.0</td>\n",
       "      <td>64749.0</td>\n",
       "      <td>0.0</td>\n",
       "      <td>644731.0</td>\n",
       "      <td>742893.0</td>\n",
       "      <td>329160.0</td>\n",
       "      <td>...</td>\n",
       "      <td>5832.0</td>\n",
       "      <td>5000.0</td>\n",
       "      <td>3433.0</td>\n",
       "      <td>47009.0</td>\n",
       "      <td>18173.0</td>\n",
       "      <td>70000.0</td>\n",
       "      <td>192.600553</td>\n",
       "      <td>234.924621</td>\n",
       "      <td>178.557612</td>\n",
       "      <td>265.976765</td>\n",
       "    </tr>\n",
       "    <tr>\n",
       "      <th>9</th>\n",
       "      <td>1992_FLORIDA</td>\n",
       "      <td>FLORIDA</td>\n",
       "      <td>1992</td>\n",
       "      <td>NaN</td>\n",
       "      <td>11506299.0</td>\n",
       "      <td>788420.0</td>\n",
       "      <td>5683949.0</td>\n",
       "      <td>5033930.0</td>\n",
       "      <td>11305642.0</td>\n",
       "      <td>5166374.0</td>\n",
       "      <td>...</td>\n",
       "      <td>164416.0</td>\n",
       "      <td>142372.0</td>\n",
       "      <td>100835.0</td>\n",
       "      <td>1276685.0</td>\n",
       "      <td>511557.0</td>\n",
       "      <td>1819706.0</td>\n",
       "      <td>213.689751</td>\n",
       "      <td>259.908848</td>\n",
       "      <td>204.882606</td>\n",
       "      <td>262.118986</td>\n",
       "    </tr>\n",
       "  </tbody>\n",
       "</table>\n",
       "<p>10 rows × 25 columns</p>\n",
       "</div>"
      ],
      "text/plain": [
       "                 PRIMARY_KEY                 STATE  YEAR  ENROLL  \\\n",
       "0               1992_ALABAMA               ALABAMA  1992     NaN   \n",
       "1                1992_ALASKA                ALASKA  1992     NaN   \n",
       "2               1992_ARIZONA               ARIZONA  1992     NaN   \n",
       "3              1992_ARKANSAS              ARKANSAS  1992     NaN   \n",
       "4            1992_CALIFORNIA            CALIFORNIA  1992     NaN   \n",
       "5              1992_COLORADO              COLORADO  1992     NaN   \n",
       "6           1992_CONNECTICUT           CONNECTICUT  1992     NaN   \n",
       "7              1992_DELAWARE              DELAWARE  1992     NaN   \n",
       "8  1992_DISTRICT_OF_COLUMBIA  DISTRICT_OF_COLUMBIA  1992     NaN   \n",
       "9               1992_FLORIDA               FLORIDA  1992     NaN   \n",
       "\n",
       "   TOTAL_REVENUE  FEDERAL_REVENUE  STATE_REVENUE  LOCAL_REVENUE  \\\n",
       "0      2678885.0         304177.0      1659028.0       715680.0   \n",
       "1      1049591.0         106780.0       720711.0       222100.0   \n",
       "2      3258079.0         297888.0      1369815.0      1590376.0   \n",
       "3      1711959.0         178571.0       958785.0       574603.0   \n",
       "4     26260025.0        2072470.0     16546514.0      7641041.0   \n",
       "5      3185173.0         163253.0      1307986.0      1713934.0   \n",
       "6      3834302.0         143542.0      1342539.0      2348221.0   \n",
       "7       645233.0          45945.0       420942.0       178346.0   \n",
       "8       709480.0          64749.0            0.0       644731.0   \n",
       "9     11506299.0         788420.0      5683949.0      5033930.0   \n",
       "\n",
       "   TOTAL_EXPENDITURE  INSTRUCTION_EXPENDITURE  ...  GRADES_4_G  GRADES_8_G  \\\n",
       "0          2653798.0                1481703.0  ...     57948.0     58025.0   \n",
       "1           972488.0                 498362.0  ...      9748.0      8789.0   \n",
       "2          3401580.0                1435908.0  ...     55433.0     49081.0   \n",
       "3          1743022.0                 964323.0  ...     34632.0     36011.0   \n",
       "4         27138832.0               14358922.0  ...    418418.0    363296.0   \n",
       "5          3264826.0                1642466.0  ...     50648.0     45025.0   \n",
       "6          3721338.0                2148041.0  ...     38058.0     33691.0   \n",
       "7           638784.0                 372722.0  ...      8272.0      8012.0   \n",
       "8           742893.0                 329160.0  ...      5832.0      5000.0   \n",
       "9         11305642.0                5166374.0  ...    164416.0    142372.0   \n",
       "\n",
       "   GRADES_12_G  GRADES_1_8_G  GRADES_9_12_G  GRADES_ALL_G  AVG_MATH_4_SCORE  \\\n",
       "0      41167.0      471564.0       196386.0      676174.0        208.327876   \n",
       "1       6714.0       79117.0        30847.0      112335.0               NaN   \n",
       "2      37410.0      437127.0       175210.0      614881.0        215.253932   \n",
       "3      27651.0      281338.0       123113.0      405259.0        210.206028   \n",
       "4     270675.0     3286034.0      1372011.0     4717112.0        208.398961   \n",
       "5      34533.0      394904.0       160299.0      562613.0        221.023429   \n",
       "6      28366.0      304284.0       126917.0      436932.0        226.798480   \n",
       "7       6129.0       67495.0        28338.0       96296.0        217.899972   \n",
       "8       3433.0       47009.0        18173.0       70000.0        192.600553   \n",
       "9     100835.0     1276685.0       511557.0     1819706.0        213.689751   \n",
       "\n",
       "   AVG_MATH_8_SCORE  AVG_READING_4_SCORE  AVG_READING_8_SCORE  \n",
       "0        252.187522           207.963517                  NaN  \n",
       "1               NaN                  NaN           258.859712  \n",
       "2        265.366278           206.212716           262.169895  \n",
       "3        256.312090           208.634458           264.619665  \n",
       "4        260.892247           196.764414                  NaN  \n",
       "5        272.398433           213.480890           266.419687  \n",
       "6        273.739345           222.417599           264.713904  \n",
       "7        262.868585           206.389052           261.577921  \n",
       "8        234.924621           178.557612           265.976765  \n",
       "9        259.908848           204.882606           262.118986  \n",
       "\n",
       "[10 rows x 25 columns]"
      ]
     },
     "execution_count": 101,
     "metadata": {},
     "output_type": "execute_result"
    }
   ],
   "source": [
    "dsbc_df.head(10)"
   ]
  },
  {
   "cell_type": "markdown",
   "metadata": {},
   "source": [
    "### 1. Determine all the variable types and find the fraction of the missing values for each variable."
   ]
  },
  {
   "cell_type": "code",
   "execution_count": 110,
   "metadata": {},
   "outputs": [
    {
     "name": "stdout",
     "output_type": "stream",
     "text": [
      "<class 'pandas.core.frame.DataFrame'>\n",
      "RangeIndex: 1492 entries, 0 to 1491\n",
      "Data columns (total 25 columns):\n",
      " #   Column                        Non-Null Count  Dtype  \n",
      "---  ------                        --------------  -----  \n",
      " 0   PRIMARY_KEY                   1492 non-null   object \n",
      " 1   STATE                         1492 non-null   object \n",
      " 2   YEAR                          1492 non-null   int64  \n",
      " 3   ENROLL                        1229 non-null   float64\n",
      " 4   TOTAL_REVENUE                 1280 non-null   float64\n",
      " 5   FEDERAL_REVENUE               1280 non-null   float64\n",
      " 6   STATE_REVENUE                 1280 non-null   float64\n",
      " 7   LOCAL_REVENUE                 1280 non-null   float64\n",
      " 8   TOTAL_EXPENDITURE             1280 non-null   float64\n",
      " 9   INSTRUCTION_EXPENDITURE       1280 non-null   float64\n",
      " 10  SUPPORT_SERVICES_EXPENDITURE  1280 non-null   float64\n",
      " 11  OTHER_EXPENDITURE             1229 non-null   float64\n",
      " 12  CAPITAL_OUTLAY_EXPENDITURE    1280 non-null   float64\n",
      " 13  GRADES_PK_G                   1319 non-null   float64\n",
      " 14  GRADES_KG_G                   1360 non-null   float64\n",
      " 15  GRADES_4_G                    1361 non-null   float64\n",
      " 16  GRADES_8_G                    1361 non-null   float64\n",
      " 17  GRADES_12_G                   1361 non-null   float64\n",
      " 18  GRADES_1_8_G                  1361 non-null   float64\n",
      " 19  GRADES_9_12_G                 1361 non-null   float64\n",
      " 20  GRADES_ALL_G                  1319 non-null   float64\n",
      " 21  AVG_MATH_4_SCORE              536 non-null    float64\n",
      " 22  AVG_MATH_8_SCORE              532 non-null    float64\n",
      " 23  AVG_READING_4_SCORE           533 non-null    float64\n",
      " 24  AVG_READING_8_SCORE           498 non-null    float64\n",
      "dtypes: float64(22), int64(1), object(2)\n",
      "memory usage: 291.5+ KB\n",
      "None\n",
      "PRIMARY_KEY                      0.000000\n",
      "STATE                            0.000000\n",
      "YEAR                             0.000000\n",
      "ENROLL                          17.627346\n",
      "TOTAL_REVENUE                   14.209115\n",
      "FEDERAL_REVENUE                 14.209115\n",
      "STATE_REVENUE                   14.209115\n",
      "LOCAL_REVENUE                   14.209115\n",
      "TOTAL_EXPENDITURE               14.209115\n",
      "INSTRUCTION_EXPENDITURE         14.209115\n",
      "SUPPORT_SERVICES_EXPENDITURE    14.209115\n",
      "OTHER_EXPENDITURE               17.627346\n",
      "CAPITAL_OUTLAY_EXPENDITURE      14.209115\n",
      "GRADES_PK_G                     11.595174\n",
      "GRADES_KG_G                      8.847185\n",
      "GRADES_4_G                       8.780161\n",
      "GRADES_8_G                       8.780161\n",
      "GRADES_12_G                      8.780161\n",
      "GRADES_1_8_G                     8.780161\n",
      "GRADES_9_12_G                    8.780161\n",
      "GRADES_ALL_G                    11.595174\n",
      "AVG_MATH_4_SCORE                64.075067\n",
      "AVG_MATH_8_SCORE                64.343164\n",
      "AVG_READING_4_SCORE             64.276139\n",
      "AVG_READING_8_SCORE             66.621984\n",
      "dtype: float64\n"
     ]
    }
   ],
   "source": [
    "print(dsbc_df.info())\n",
    "print(dsbc_df.isnull().sum()*100/dsbc_df.isnull().count())"
   ]
  },
  {
   "cell_type": "markdown",
   "metadata": {},
   "source": [
    "### 2. Notice that the data has a time dimension (year). For this assignment, forget about time and treat all the observations as if they're from the same year. Choose a strategy to deal with the missing values for each variables. For which variables would filling in the missing values with some value make sense? For which might tossing out the records entirely make sense?\n"
   ]
  },
  {
   "cell_type": "code",
   "execution_count": 112,
   "metadata": {},
   "outputs": [
    {
     "data": {
      "text/plain": [
       "<AxesSubplot:>"
      ]
     },
     "execution_count": 112,
     "metadata": {},
     "output_type": "execute_result"
    },
    {
     "data": {
      "image/png": "[encoded data removed]",
      "text/plain": [
       "<Figure size 432x288 with 1 Axes>"
      ]
     },
     "metadata": {
      "needs_background": "light"
     },
     "output_type": "display_data"
    }
   ],
   "source": [
    "df_copy = dsbc_df.copy()\n",
    "df_copy.ENROLL.hist()"
   ]
  },
  {
   "cell_type": "code",
   "execution_count": 113,
   "metadata": {},
   "outputs": [
    {
     "name": "stdout",
     "output_type": "stream",
     "text": [
      "PRIMARY_KEY                      0.000000\n",
      "STATE                            0.000000\n",
      "YEAR                             0.000000\n",
      "ENROLL                           0.000000\n",
      "TOTAL_REVENUE                   14.209115\n",
      "FEDERAL_REVENUE                 14.209115\n",
      "STATE_REVENUE                   14.209115\n",
      "LOCAL_REVENUE                   14.209115\n",
      "TOTAL_EXPENDITURE               14.209115\n",
      "INSTRUCTION_EXPENDITURE         14.209115\n",
      "SUPPORT_SERVICES_EXPENDITURE    14.209115\n",
      "OTHER_EXPENDITURE               17.627346\n",
      "CAPITAL_OUTLAY_EXPENDITURE      14.209115\n",
      "GRADES_PK_G                     11.595174\n",
      "GRADES_KG_G                      8.847185\n",
      "GRADES_4_G                       8.780161\n",
      "GRADES_8_G                       8.780161\n",
      "GRADES_12_G                      8.780161\n",
      "GRADES_1_8_G                     8.780161\n",
      "GRADES_9_12_G                    8.780161\n",
      "GRADES_ALL_G                    11.595174\n",
      "AVG_MATH_4_SCORE                64.075067\n",
      "AVG_MATH_8_SCORE                64.343164\n",
      "AVG_READING_4_SCORE             64.276139\n",
      "AVG_READING_8_SCORE             66.621984\n",
      "dtype: float64\n"
     ]
    }
   ],
   "source": [
    "# based on the distribution fill null in ENROLL with median value\n",
    "df_copy.ENROLL.fillna(df_copy.ENROLL.median(), inplace=True)\n",
    "print(df_copy.isnull().sum()*100/df_copy.isnull().count())"
   ]
  },
  {
   "cell_type": "code",
   "execution_count": 114,
   "metadata": {},
   "outputs": [
    {
     "data": {
      "text/plain": [
       "<AxesSubplot:>"
      ]
     },
     "execution_count": 114,
     "metadata": {},
     "output_type": "execute_result"
    },
    {
     "data": {
      "image/png": "[encoded data removed]",
      "text/plain": [
       "<Figure size 432x288 with 1 Axes>"
      ]
     },
     "metadata": {
      "needs_background": "light"
     },
     "output_type": "display_data"
    }
   ],
   "source": [
    "df_copy.TOTAL_REVENUE.hist()"
   ]
  },
  {
   "cell_type": "code",
   "execution_count": 115,
   "metadata": {},
   "outputs": [
    {
     "name": "stdout",
     "output_type": "stream",
     "text": [
      "PRIMARY_KEY                      0.000000\n",
      "STATE                            0.000000\n",
      "YEAR                             0.000000\n",
      "ENROLL                           0.000000\n",
      "TOTAL_REVENUE                    0.000000\n",
      "FEDERAL_REVENUE                 14.209115\n",
      "STATE_REVENUE                   14.209115\n",
      "LOCAL_REVENUE                   14.209115\n",
      "TOTAL_EXPENDITURE               14.209115\n",
      "INSTRUCTION_EXPENDITURE         14.209115\n",
      "SUPPORT_SERVICES_EXPENDITURE    14.209115\n",
      "OTHER_EXPENDITURE               17.627346\n",
      "CAPITAL_OUTLAY_EXPENDITURE      14.209115\n",
      "GRADES_PK_G                     11.595174\n",
      "GRADES_KG_G                      8.847185\n",
      "GRADES_4_G                       8.780161\n",
      "GRADES_8_G                       8.780161\n",
      "GRADES_12_G                      8.780161\n",
      "GRADES_1_8_G                     8.780161\n",
      "GRADES_9_12_G                    8.780161\n",
      "GRADES_ALL_G                    11.595174\n",
      "AVG_MATH_4_SCORE                64.075067\n",
      "AVG_MATH_8_SCORE                64.343164\n",
      "AVG_READING_4_SCORE             64.276139\n",
      "AVG_READING_8_SCORE             66.621984\n",
      "dtype: float64\n"
     ]
    }
   ],
   "source": [
    "# based on the distribution fill null in TOTAL_REVENUE with median value\n",
    "df_copy.TOTAL_REVENUE.fillna(df_copy.TOTAL_REVENUE.median(), inplace=True)\n",
    "print(df_copy.isnull().sum()*100/df_copy.isnull().count())"
   ]
  },
  {
   "cell_type": "code",
   "execution_count": 116,
   "metadata": {},
   "outputs": [
    {
     "data": {
      "text/plain": [
       "<AxesSubplot:>"
      ]
     },
     "execution_count": 116,
     "metadata": {},
     "output_type": "execute_result"
    },
    {
     "data": {
      "image/png": "[encoded data removed]",
      "text/plain": [
       "<Figure size 432x288 with 1 Axes>"
      ]
     },
     "metadata": {
      "needs_background": "light"
     },
     "output_type": "display_data"
    }
   ],
   "source": [
    "df_copy.FEDERAL_REVENUE.hist()"
   ]
  },
  {
   "cell_type": "code",
   "execution_count": 117,
   "metadata": {},
   "outputs": [
    {
     "name": "stdout",
     "output_type": "stream",
     "text": [
      "PRIMARY_KEY                      0.000000\n",
      "STATE                            0.000000\n",
      "YEAR                             0.000000\n",
      "ENROLL                           0.000000\n",
      "TOTAL_REVENUE                    0.000000\n",
      "FEDERAL_REVENUE                  0.000000\n",
      "STATE_REVENUE                   14.209115\n",
      "LOCAL_REVENUE                   14.209115\n",
      "TOTAL_EXPENDITURE               14.209115\n",
      "INSTRUCTION_EXPENDITURE         14.209115\n",
      "SUPPORT_SERVICES_EXPENDITURE    14.209115\n",
      "OTHER_EXPENDITURE               17.627346\n",
      "CAPITAL_OUTLAY_EXPENDITURE      14.209115\n",
      "GRADES_PK_G                     11.595174\n",
      "GRADES_KG_G                      8.847185\n",
      "GRADES_4_G                       8.780161\n",
      "GRADES_8_G                       8.780161\n",
      "GRADES_12_G                      8.780161\n",
      "GRADES_1_8_G                     8.780161\n",
      "GRADES_9_12_G                    8.780161\n",
      "GRADES_ALL_G                    11.595174\n",
      "AVG_MATH_4_SCORE                64.075067\n",
      "AVG_MATH_8_SCORE                64.343164\n",
      "AVG_READING_4_SCORE             64.276139\n",
      "AVG_READING_8_SCORE             66.621984\n",
      "dtype: float64\n"
     ]
    }
   ],
   "source": [
    "# based on the distribution fill null in FEDERAL_REVENUE with median value\n",
    "df_copy.FEDERAL_REVENUE.fillna(df_copy.FEDERAL_REVENUE.median(), inplace=True)\n",
    "print(df_copy.isnull().sum()*100/df_copy.isnull().count())"
   ]
  },
  {
   "cell_type": "code",
   "execution_count": 118,
   "metadata": {},
   "outputs": [
    {
     "data": {
      "text/plain": [
       "<AxesSubplot:>"
      ]
     },
     "execution_count": 118,
     "metadata": {},
     "output_type": "execute_result"
    },
    {
     "data": {
      "image/png": "[encoded data removed]",
      "text/plain": [
       "<Figure size 432x288 with 1 Axes>"
      ]
     },
     "metadata": {
      "needs_background": "light"
     },
     "output_type": "display_data"
    }
   ],
   "source": [
    "df_copy.STATE_REVENUE.hist()"
   ]
  },
  {
   "cell_type": "code",
   "execution_count": 119,
   "metadata": {},
   "outputs": [
    {
     "name": "stdout",
     "output_type": "stream",
     "text": [
      "PRIMARY_KEY                      0.000000\n",
      "STATE                            0.000000\n",
      "YEAR                             0.000000\n",
      "ENROLL                           0.000000\n",
      "TOTAL_REVENUE                    0.000000\n",
      "FEDERAL_REVENUE                  0.000000\n",
      "STATE_REVENUE                    0.000000\n",
      "LOCAL_REVENUE                   14.209115\n",
      "TOTAL_EXPENDITURE               14.209115\n",
      "INSTRUCTION_EXPENDITURE         14.209115\n",
      "SUPPORT_SERVICES_EXPENDITURE    14.209115\n",
      "OTHER_EXPENDITURE               17.627346\n",
      "CAPITAL_OUTLAY_EXPENDITURE      14.209115\n",
      "GRADES_PK_G                     11.595174\n",
      "GRADES_KG_G                      8.847185\n",
      "GRADES_4_G                       8.780161\n",
      "GRADES_8_G                       8.780161\n",
      "GRADES_12_G                      8.780161\n",
      "GRADES_1_8_G                     8.780161\n",
      "GRADES_9_12_G                    8.780161\n",
      "GRADES_ALL_G                    11.595174\n",
      "AVG_MATH_4_SCORE                64.075067\n",
      "AVG_MATH_8_SCORE                64.343164\n",
      "AVG_READING_4_SCORE             64.276139\n",
      "AVG_READING_8_SCORE             66.621984\n",
      "dtype: float64\n"
     ]
    }
   ],
   "source": [
    "# based on the distribution fill null in STATE_REVENUE with median value\n",
    "df_copy.STATE_REVENUE.fillna(df_copy.STATE_REVENUE.median(), inplace=True)\n",
    "print(df_copy.isnull().sum()*100/df_copy.isnull().count())"
   ]
  },
  {
   "cell_type": "code",
   "execution_count": 123,
   "metadata": {},
   "outputs": [
    {
     "name": "stdout",
     "output_type": "stream",
     "text": [
      "PRIMARY_KEY                      0.000000\n",
      "STATE                            0.000000\n",
      "YEAR                             0.000000\n",
      "ENROLL                           0.000000\n",
      "TOTAL_REVENUE                    0.000000\n",
      "FEDERAL_REVENUE                  0.000000\n",
      "STATE_REVENUE                    0.000000\n",
      "LOCAL_REVENUE                    0.000000\n",
      "TOTAL_EXPENDITURE               14.209115\n",
      "INSTRUCTION_EXPENDITURE         14.209115\n",
      "SUPPORT_SERVICES_EXPENDITURE    14.209115\n",
      "OTHER_EXPENDITURE               17.627346\n",
      "CAPITAL_OUTLAY_EXPENDITURE      14.209115\n",
      "GRADES_PK_G                     11.595174\n",
      "GRADES_KG_G                      8.847185\n",
      "GRADES_4_G                       8.780161\n",
      "GRADES_8_G                       8.780161\n",
      "GRADES_12_G                      8.780161\n",
      "GRADES_1_8_G                     8.780161\n",
      "GRADES_9_12_G                    8.780161\n",
      "GRADES_ALL_G                    11.595174\n",
      "AVG_MATH_4_SCORE                64.075067\n",
      "AVG_MATH_8_SCORE                64.343164\n",
      "AVG_READING_4_SCORE             64.276139\n",
      "AVG_READING_8_SCORE             66.621984\n",
      "dtype: float64\n"
     ]
    },
    {
     "data": {
      "image/png": "[encoded data removed]",
      "text/plain": [
       "<Figure size 432x288 with 1 Axes>"
      ]
     },
     "metadata": {
      "needs_background": "light"
     },
     "output_type": "display_data"
    }
   ],
   "source": [
    "df_copy.LOCAL_REVENUE.hist()\n",
    "# based on the distribution fill null in LOCAL_REVENUE with median value\n",
    "df_copy.LOCAL_REVENUE.fillna(df_copy.LOCAL_REVENUE.median(), inplace=True)\n",
    "print(df_copy.isnull().sum()*100/df_copy.isnull().count())\n",
    "plt.show()"
   ]
  },
  {
   "cell_type": "code",
   "execution_count": 124,
   "metadata": {},
   "outputs": [
    {
     "name": "stdout",
     "output_type": "stream",
     "text": [
      "PRIMARY_KEY                      0.000000\n",
      "STATE                            0.000000\n",
      "YEAR                             0.000000\n",
      "ENROLL                           0.000000\n",
      "TOTAL_REVENUE                    0.000000\n",
      "FEDERAL_REVENUE                  0.000000\n",
      "STATE_REVENUE                    0.000000\n",
      "LOCAL_REVENUE                    0.000000\n",
      "TOTAL_EXPENDITURE                0.000000\n",
      "INSTRUCTION_EXPENDITURE         14.209115\n",
      "SUPPORT_SERVICES_EXPENDITURE    14.209115\n",
      "OTHER_EXPENDITURE               17.627346\n",
      "CAPITAL_OUTLAY_EXPENDITURE      14.209115\n",
      "GRADES_PK_G                     11.595174\n",
      "GRADES_KG_G                      8.847185\n",
      "GRADES_4_G                       8.780161\n",
      "GRADES_8_G                       8.780161\n",
      "GRADES_12_G                      8.780161\n",
      "GRADES_1_8_G                     8.780161\n",
      "GRADES_9_12_G                    8.780161\n",
      "GRADES_ALL_G                    11.595174\n",
      "AVG_MATH_4_SCORE                64.075067\n",
      "AVG_MATH_8_SCORE                64.343164\n",
      "AVG_READING_4_SCORE             64.276139\n",
      "AVG_READING_8_SCORE             66.621984\n",
      "dtype: float64\n"
     ]
    },
    {
     "data": {
      "image/png": "[encoded data removed]",
      "text/plain": [
       "<Figure size 432x288 with 1 Axes>"
      ]
     },
     "metadata": {
      "needs_background": "light"
     },
     "output_type": "display_data"
    }
   ],
   "source": [
    "df_copy.TOTAL_EXPENDITURE.hist()\n",
    "# based on the distribution fill null in TOTAL_EXPENDITURE with median value\n",
    "df_copy.TOTAL_EXPENDITURE.fillna(df_copy.TOTAL_EXPENDITURE.median(), inplace=True)\n",
    "print(df_copy.isnull().sum()*100/df_copy.isnull().count())\n",
    "plt.show()"
   ]
  },
  {
   "cell_type": "code",
   "execution_count": 125,
   "metadata": {},
   "outputs": [
    {
     "data": {
      "image/png": "[encoded data removed]",
      "text/plain": [
       "<Figure size 432x288 with 1 Axes>"
      ]
     },
     "metadata": {
      "needs_background": "light"
     },
     "output_type": "display_data"
    },
    {
     "name": "stdout",
     "output_type": "stream",
     "text": [
      "PRIMARY_KEY                      0.000000\n",
      "STATE                            0.000000\n",
      "YEAR                             0.000000\n",
      "ENROLL                           0.000000\n",
      "TOTAL_REVENUE                    0.000000\n",
      "FEDERAL_REVENUE                  0.000000\n",
      "STATE_REVENUE                    0.000000\n",
      "LOCAL_REVENUE                    0.000000\n",
      "TOTAL_EXPENDITURE                0.000000\n",
      "INSTRUCTION_EXPENDITURE          0.000000\n",
      "SUPPORT_SERVICES_EXPENDITURE    14.209115\n",
      "OTHER_EXPENDITURE               17.627346\n",
      "CAPITAL_OUTLAY_EXPENDITURE      14.209115\n",
      "GRADES_PK_G                     11.595174\n",
      "GRADES_KG_G                      8.847185\n",
      "GRADES_4_G                       8.780161\n",
      "GRADES_8_G                       8.780161\n",
      "GRADES_12_G                      8.780161\n",
      "GRADES_1_8_G                     8.780161\n",
      "GRADES_9_12_G                    8.780161\n",
      "GRADES_ALL_G                    11.595174\n",
      "AVG_MATH_4_SCORE                64.075067\n",
      "AVG_MATH_8_SCORE                64.343164\n",
      "AVG_READING_4_SCORE             64.276139\n",
      "AVG_READING_8_SCORE             66.621984\n",
      "dtype: float64\n"
     ]
    }
   ],
   "source": [
    "df_copy.INSTRUCTION_EXPENDITURE.hist()\n",
    "# based on the distribution fill null in INSTRUCTION_EXPENDITURE with median value\n",
    "df_copy.INSTRUCTION_EXPENDITURE.fillna(df_copy.INSTRUCTION_EXPENDITURE.median(), inplace=True)\n",
    "plt.show()\n",
    "print(df_copy.isnull().sum()*100/df_copy.isnull().count())\n"
   ]
  },
  {
   "cell_type": "code",
   "execution_count": 126,
   "metadata": {},
   "outputs": [
    {
     "data": {
      "image/png": "[encoded data removed]",
      "text/plain": [
       "<Figure size 432x288 with 1 Axes>"
      ]
     },
     "metadata": {
      "needs_background": "light"
     },
     "output_type": "display_data"
    },
    {
     "name": "stdout",
     "output_type": "stream",
     "text": [
      "PRIMARY_KEY                      0.000000\n",
      "STATE                            0.000000\n",
      "YEAR                             0.000000\n",
      "ENROLL                           0.000000\n",
      "TOTAL_REVENUE                    0.000000\n",
      "FEDERAL_REVENUE                  0.000000\n",
      "STATE_REVENUE                    0.000000\n",
      "LOCAL_REVENUE                    0.000000\n",
      "TOTAL_EXPENDITURE                0.000000\n",
      "INSTRUCTION_EXPENDITURE          0.000000\n",
      "SUPPORT_SERVICES_EXPENDITURE     0.000000\n",
      "OTHER_EXPENDITURE               17.627346\n",
      "CAPITAL_OUTLAY_EXPENDITURE      14.209115\n",
      "GRADES_PK_G                     11.595174\n",
      "GRADES_KG_G                      8.847185\n",
      "GRADES_4_G                       8.780161\n",
      "GRADES_8_G                       8.780161\n",
      "GRADES_12_G                      8.780161\n",
      "GRADES_1_8_G                     8.780161\n",
      "GRADES_9_12_G                    8.780161\n",
      "GRADES_ALL_G                    11.595174\n",
      "AVG_MATH_4_SCORE                64.075067\n",
      "AVG_MATH_8_SCORE                64.343164\n",
      "AVG_READING_4_SCORE             64.276139\n",
      "AVG_READING_8_SCORE             66.621984\n",
      "dtype: float64\n"
     ]
    }
   ],
   "source": [
    "df_copy.SUPPORT_SERVICES_EXPENDITURE.hist()\n",
    "# based on the distribution fill null in SUPPORT_SERVICES_EXPENDITURE with median value\n",
    "df_copy.SUPPORT_SERVICES_EXPENDITURE.fillna(df_copy.SUPPORT_SERVICES_EXPENDITURE.median(), inplace=True)\n",
    "plt.show()\n",
    "print(df_copy.isnull().sum()*100/df_copy.isnull().count())"
   ]
  },
  {
   "cell_type": "code",
   "execution_count": 127,
   "metadata": {},
   "outputs": [
    {
     "data": {
      "image/png": "[encoded data removed]",
      "text/plain": [
       "<Figure size 432x288 with 1 Axes>"
      ]
     },
     "metadata": {
      "needs_background": "light"
     },
     "output_type": "display_data"
    },
    {
     "name": "stdout",
     "output_type": "stream",
     "text": [
      "PRIMARY_KEY                      0.000000\n",
      "STATE                            0.000000\n",
      "YEAR                             0.000000\n",
      "ENROLL                           0.000000\n",
      "TOTAL_REVENUE                    0.000000\n",
      "FEDERAL_REVENUE                  0.000000\n",
      "STATE_REVENUE                    0.000000\n",
      "LOCAL_REVENUE                    0.000000\n",
      "TOTAL_EXPENDITURE                0.000000\n",
      "INSTRUCTION_EXPENDITURE          0.000000\n",
      "SUPPORT_SERVICES_EXPENDITURE     0.000000\n",
      "OTHER_EXPENDITURE                0.000000\n",
      "CAPITAL_OUTLAY_EXPENDITURE      14.209115\n",
      "GRADES_PK_G                     11.595174\n",
      "GRADES_KG_G                      8.847185\n",
      "GRADES_4_G                       8.780161\n",
      "GRADES_8_G                       8.780161\n",
      "GRADES_12_G                      8.780161\n",
      "GRADES_1_8_G                     8.780161\n",
      "GRADES_9_12_G                    8.780161\n",
      "GRADES_ALL_G                    11.595174\n",
      "AVG_MATH_4_SCORE                64.075067\n",
      "AVG_MATH_8_SCORE                64.343164\n",
      "AVG_READING_4_SCORE             64.276139\n",
      "AVG_READING_8_SCORE             66.621984\n",
      "dtype: float64\n"
     ]
    }
   ],
   "source": [
    "df_copy.OTHER_EXPENDITURE.hist()\n",
    "# based on the distribution fill null in OTHER_EXPENDITURE with median value\n",
    "df_copy.OTHER_EXPENDITURE.fillna(df_copy.OTHER_EXPENDITURE.median(), inplace=True)\n",
    "plt.show()\n",
    "print(df_copy.isnull().sum()*100/df_copy.isnull().count())"
   ]
  },
  {
   "cell_type": "code",
   "execution_count": 128,
   "metadata": {},
   "outputs": [
    {
     "data": {
      "image/png": "[encoded data removed]",
      "text/plain": [
       "<Figure size 432x288 with 1 Axes>"
      ]
     },
     "metadata": {
      "needs_background": "light"
     },
     "output_type": "display_data"
    },
    {
     "name": "stdout",
     "output_type": "stream",
     "text": [
      "PRIMARY_KEY                      0.000000\n",
      "STATE                            0.000000\n",
      "YEAR                             0.000000\n",
      "ENROLL                           0.000000\n",
      "TOTAL_REVENUE                    0.000000\n",
      "FEDERAL_REVENUE                  0.000000\n",
      "STATE_REVENUE                    0.000000\n",
      "LOCAL_REVENUE                    0.000000\n",
      "TOTAL_EXPENDITURE                0.000000\n",
      "INSTRUCTION_EXPENDITURE          0.000000\n",
      "SUPPORT_SERVICES_EXPENDITURE     0.000000\n",
      "OTHER_EXPENDITURE                0.000000\n",
      "CAPITAL_OUTLAY_EXPENDITURE       0.000000\n",
      "GRADES_PK_G                     11.595174\n",
      "GRADES_KG_G                      8.847185\n",
      "GRADES_4_G                       8.780161\n",
      "GRADES_8_G                       8.780161\n",
      "GRADES_12_G                      8.780161\n",
      "GRADES_1_8_G                     8.780161\n",
      "GRADES_9_12_G                    8.780161\n",
      "GRADES_ALL_G                    11.595174\n",
      "AVG_MATH_4_SCORE                64.075067\n",
      "AVG_MATH_8_SCORE                64.343164\n",
      "AVG_READING_4_SCORE             64.276139\n",
      "AVG_READING_8_SCORE             66.621984\n",
      "dtype: float64\n"
     ]
    }
   ],
   "source": [
    "df_copy.CAPITAL_OUTLAY_EXPENDITURE.hist()\n",
    "# based on the distribution fill null in CAPITAL_OUTLAY_EXPENDITURE with median value\n",
    "df_copy.CAPITAL_OUTLAY_EXPENDITURE.fillna(df_copy.CAPITAL_OUTLAY_EXPENDITURE.median(), inplace=True)\n",
    "plt.show()\n",
    "print(df_copy.isnull().sum()*100/df_copy.isnull().count())"
   ]
  },
  {
   "cell_type": "code",
   "execution_count": 130,
   "metadata": {},
   "outputs": [
    {
     "data": {
      "image/png": "[encoded data removed]",
      "text/plain": [
       "<Figure size 432x288 with 1 Axes>"
      ]
     },
     "metadata": {
      "needs_background": "light"
     },
     "output_type": "display_data"
    },
    {
     "name": "stdout",
     "output_type": "stream",
     "text": [
      "PRIMARY_KEY                      0.000000\n",
      "STATE                            0.000000\n",
      "YEAR                             0.000000\n",
      "ENROLL                           0.000000\n",
      "TOTAL_REVENUE                    0.000000\n",
      "FEDERAL_REVENUE                  0.000000\n",
      "STATE_REVENUE                    0.000000\n",
      "LOCAL_REVENUE                    0.000000\n",
      "TOTAL_EXPENDITURE                0.000000\n",
      "INSTRUCTION_EXPENDITURE          0.000000\n",
      "SUPPORT_SERVICES_EXPENDITURE     0.000000\n",
      "OTHER_EXPENDITURE                0.000000\n",
      "CAPITAL_OUTLAY_EXPENDITURE       0.000000\n",
      "GRADES_PK_G                      0.000000\n",
      "GRADES_KG_G                      8.847185\n",
      "GRADES_4_G                       8.780161\n",
      "GRADES_8_G                       8.780161\n",
      "GRADES_12_G                      8.780161\n",
      "GRADES_1_8_G                     8.780161\n",
      "GRADES_9_12_G                    8.780161\n",
      "GRADES_ALL_G                    11.595174\n",
      "AVG_MATH_4_SCORE                64.075067\n",
      "AVG_MATH_8_SCORE                64.343164\n",
      "AVG_READING_4_SCORE             64.276139\n",
      "AVG_READING_8_SCORE             66.621984\n",
      "dtype: float64\n"
     ]
    }
   ],
   "source": [
    "df_copy.GRADES_PK_G.hist()\n",
    "# based on the distribution fill null in GRADES_PK_G with median value\n",
    "df_copy.GRADES_PK_G.fillna(df_copy.GRADES_PK_G.median(), inplace=True)\n",
    "plt.show()\n",
    "print(df_copy.isnull().sum()*100/df_copy.isnull().count())"
   ]
  },
  {
   "cell_type": "code",
   "execution_count": 132,
   "metadata": {},
   "outputs": [
    {
     "data": {
      "image/png": "[encoded data removed]",
      "text/plain": [
       "<Figure size 432x288 with 1 Axes>"
      ]
     },
     "metadata": {
      "needs_background": "light"
     },
     "output_type": "display_data"
    },
    {
     "name": "stdout",
     "output_type": "stream",
     "text": [
      "PRIMARY_KEY                      0.000000\n",
      "STATE                            0.000000\n",
      "YEAR                             0.000000\n",
      "ENROLL                           0.000000\n",
      "TOTAL_REVENUE                    0.000000\n",
      "FEDERAL_REVENUE                  0.000000\n",
      "STATE_REVENUE                    0.000000\n",
      "LOCAL_REVENUE                    0.000000\n",
      "TOTAL_EXPENDITURE                0.000000\n",
      "INSTRUCTION_EXPENDITURE          0.000000\n",
      "SUPPORT_SERVICES_EXPENDITURE     0.000000\n",
      "OTHER_EXPENDITURE                0.000000\n",
      "CAPITAL_OUTLAY_EXPENDITURE       0.000000\n",
      "GRADES_PK_G                      0.000000\n",
      "GRADES_KG_G                      0.000000\n",
      "GRADES_4_G                       8.780161\n",
      "GRADES_8_G                       8.780161\n",
      "GRADES_12_G                      8.780161\n",
      "GRADES_1_8_G                     8.780161\n",
      "GRADES_9_12_G                    8.780161\n",
      "GRADES_ALL_G                    11.595174\n",
      "AVG_MATH_4_SCORE                64.075067\n",
      "AVG_MATH_8_SCORE                64.343164\n",
      "AVG_READING_4_SCORE             64.276139\n",
      "AVG_READING_8_SCORE             66.621984\n",
      "dtype: float64\n"
     ]
    }
   ],
   "source": [
    "def fill_na(col):\n",
    "    df_copy[col].hist()\n",
    "    df_copy[col].fillna(df_copy[col].median(), inplace=True)\n",
    "    plt.show()\n",
    "    print(df_copy.isnull().sum()*100/df_copy.isnull().count())\n",
    "fill_na('GRADES_KG_G')"
   ]
  },
  {
   "cell_type": "code",
   "execution_count": 133,
   "metadata": {},
   "outputs": [
    {
     "data": {
      "image/png": "[encoded data removed]",
      "text/plain": [
       "<Figure size 432x288 with 1 Axes>"
      ]
     },
     "metadata": {
      "needs_background": "light"
     },
     "output_type": "display_data"
    },
    {
     "name": "stdout",
     "output_type": "stream",
     "text": [
      "PRIMARY_KEY                      0.000000\n",
      "STATE                            0.000000\n",
      "YEAR                             0.000000\n",
      "ENROLL                           0.000000\n",
      "TOTAL_REVENUE                    0.000000\n",
      "FEDERAL_REVENUE                  0.000000\n",
      "STATE_REVENUE                    0.000000\n",
      "LOCAL_REVENUE                    0.000000\n",
      "TOTAL_EXPENDITURE                0.000000\n",
      "INSTRUCTION_EXPENDITURE          0.000000\n",
      "SUPPORT_SERVICES_EXPENDITURE     0.000000\n",
      "OTHER_EXPENDITURE                0.000000\n",
      "CAPITAL_OUTLAY_EXPENDITURE       0.000000\n",
      "GRADES_PK_G                      0.000000\n",
      "GRADES_KG_G                      0.000000\n",
      "GRADES_4_G                       0.000000\n",
      "GRADES_8_G                       8.780161\n",
      "GRADES_12_G                      8.780161\n",
      "GRADES_1_8_G                     8.780161\n",
      "GRADES_9_12_G                    8.780161\n",
      "GRADES_ALL_G                    11.595174\n",
      "AVG_MATH_4_SCORE                64.075067\n",
      "AVG_MATH_8_SCORE                64.343164\n",
      "AVG_READING_4_SCORE             64.276139\n",
      "AVG_READING_8_SCORE             66.621984\n",
      "dtype: float64\n"
     ]
    }
   ],
   "source": [
    "fill_na('GRADES_4_G')"
   ]
  },
  {
   "cell_type": "code",
   "execution_count": 134,
   "metadata": {},
   "outputs": [
    {
     "data": {
      "image/png": "[encoded data removed]",
      "text/plain": [
       "<Figure size 432x288 with 1 Axes>"
      ]
     },
     "metadata": {
      "needs_background": "light"
     },
     "output_type": "display_data"
    },
    {
     "name": "stdout",
     "output_type": "stream",
     "text": [
      "PRIMARY_KEY                      0.000000\n",
      "STATE                            0.000000\n",
      "YEAR                             0.000000\n",
      "ENROLL                           0.000000\n",
      "TOTAL_REVENUE                    0.000000\n",
      "FEDERAL_REVENUE                  0.000000\n",
      "STATE_REVENUE                    0.000000\n",
      "LOCAL_REVENUE                    0.000000\n",
      "TOTAL_EXPENDITURE                0.000000\n",
      "INSTRUCTION_EXPENDITURE          0.000000\n",
      "SUPPORT_SERVICES_EXPENDITURE     0.000000\n",
      "OTHER_EXPENDITURE                0.000000\n",
      "CAPITAL_OUTLAY_EXPENDITURE       0.000000\n",
      "GRADES_PK_G                      0.000000\n",
      "GRADES_KG_G                      0.000000\n",
      "GRADES_4_G                       0.000000\n",
      "GRADES_8_G                       0.000000\n",
      "GRADES_12_G                      8.780161\n",
      "GRADES_1_8_G                     8.780161\n",
      "GRADES_9_12_G                    8.780161\n",
      "GRADES_ALL_G                    11.595174\n",
      "AVG_MATH_4_SCORE                64.075067\n",
      "AVG_MATH_8_SCORE                64.343164\n",
      "AVG_READING_4_SCORE             64.276139\n",
      "AVG_READING_8_SCORE             66.621984\n",
      "dtype: float64\n"
     ]
    }
   ],
   "source": [
    "fill_na('GRADES_8_G')"
   ]
  },
  {
   "cell_type": "code",
   "execution_count": 135,
   "metadata": {},
   "outputs": [
    {
     "data": {
      "image/png": "[encoded data removed]",
      "text/plain": [
       "<Figure size 432x288 with 1 Axes>"
      ]
     },
     "metadata": {
      "needs_background": "light"
     },
     "output_type": "display_data"
    },
    {
     "name": "stdout",
     "output_type": "stream",
     "text": [
      "PRIMARY_KEY                      0.000000\n",
      "STATE                            0.000000\n",
      "YEAR                             0.000000\n",
      "ENROLL                           0.000000\n",
      "TOTAL_REVENUE                    0.000000\n",
      "FEDERAL_REVENUE                  0.000000\n",
      "STATE_REVENUE                    0.000000\n",
      "LOCAL_REVENUE                    0.000000\n",
      "TOTAL_EXPENDITURE                0.000000\n",
      "INSTRUCTION_EXPENDITURE          0.000000\n",
      "SUPPORT_SERVICES_EXPENDITURE     0.000000\n",
      "OTHER_EXPENDITURE                0.000000\n",
      "CAPITAL_OUTLAY_EXPENDITURE       0.000000\n",
      "GRADES_PK_G                      0.000000\n",
      "GRADES_KG_G                      0.000000\n",
      "GRADES_4_G                       0.000000\n",
      "GRADES_8_G                       0.000000\n",
      "GRADES_12_G                      0.000000\n",
      "GRADES_1_8_G                     8.780161\n",
      "GRADES_9_12_G                    8.780161\n",
      "GRADES_ALL_G                    11.595174\n",
      "AVG_MATH_4_SCORE                64.075067\n",
      "AVG_MATH_8_SCORE                64.343164\n",
      "AVG_READING_4_SCORE             64.276139\n",
      "AVG_READING_8_SCORE             66.621984\n",
      "dtype: float64\n"
     ]
    }
   ],
   "source": [
    "fill_na('GRADES_12_G')"
   ]
  },
  {
   "cell_type": "code",
   "execution_count": 136,
   "metadata": {},
   "outputs": [
    {
     "data": {
      "image/png": "[encoded data removed]",
      "text/plain": [
       "<Figure size 432x288 with 1 Axes>"
      ]
     },
     "metadata": {
      "needs_background": "light"
     },
     "output_type": "display_data"
    },
    {
     "name": "stdout",
     "output_type": "stream",
     "text": [
      "PRIMARY_KEY                      0.000000\n",
      "STATE                            0.000000\n",
      "YEAR                             0.000000\n",
      "ENROLL                           0.000000\n",
      "TOTAL_REVENUE                    0.000000\n",
      "FEDERAL_REVENUE                  0.000000\n",
      "STATE_REVENUE                    0.000000\n",
      "LOCAL_REVENUE                    0.000000\n",
      "TOTAL_EXPENDITURE                0.000000\n",
      "INSTRUCTION_EXPENDITURE          0.000000\n",
      "SUPPORT_SERVICES_EXPENDITURE     0.000000\n",
      "OTHER_EXPENDITURE                0.000000\n",
      "CAPITAL_OUTLAY_EXPENDITURE       0.000000\n",
      "GRADES_PK_G                      0.000000\n",
      "GRADES_KG_G                      0.000000\n",
      "GRADES_4_G                       0.000000\n",
      "GRADES_8_G                       0.000000\n",
      "GRADES_12_G                      0.000000\n",
      "GRADES_1_8_G                     0.000000\n",
      "GRADES_9_12_G                    8.780161\n",
      "GRADES_ALL_G                    11.595174\n",
      "AVG_MATH_4_SCORE                64.075067\n",
      "AVG_MATH_8_SCORE                64.343164\n",
      "AVG_READING_4_SCORE             64.276139\n",
      "AVG_READING_8_SCORE             66.621984\n",
      "dtype: float64\n"
     ]
    }
   ],
   "source": [
    "fill_na('GRADES_1_8_G')"
   ]
  },
  {
   "cell_type": "code",
   "execution_count": 137,
   "metadata": {},
   "outputs": [
    {
     "data": {
      "image/png": "[encoded data removed]",
      "text/plain": [
       "<Figure size 432x288 with 1 Axes>"
      ]
     },
     "metadata": {
      "needs_background": "light"
     },
     "output_type": "display_data"
    },
    {
     "name": "stdout",
     "output_type": "stream",
     "text": [
      "PRIMARY_KEY                      0.000000\n",
      "STATE                            0.000000\n",
      "YEAR                             0.000000\n",
      "ENROLL                           0.000000\n",
      "TOTAL_REVENUE                    0.000000\n",
      "FEDERAL_REVENUE                  0.000000\n",
      "STATE_REVENUE                    0.000000\n",
      "LOCAL_REVENUE                    0.000000\n",
      "TOTAL_EXPENDITURE                0.000000\n",
      "INSTRUCTION_EXPENDITURE          0.000000\n",
      "SUPPORT_SERVICES_EXPENDITURE     0.000000\n",
      "OTHER_EXPENDITURE                0.000000\n",
      "CAPITAL_OUTLAY_EXPENDITURE       0.000000\n",
      "GRADES_PK_G                      0.000000\n",
      "GRADES_KG_G                      0.000000\n",
      "GRADES_4_G                       0.000000\n",
      "GRADES_8_G                       0.000000\n",
      "GRADES_12_G                      0.000000\n",
      "GRADES_1_8_G                     0.000000\n",
      "GRADES_9_12_G                    0.000000\n",
      "GRADES_ALL_G                    11.595174\n",
      "AVG_MATH_4_SCORE                64.075067\n",
      "AVG_MATH_8_SCORE                64.343164\n",
      "AVG_READING_4_SCORE             64.276139\n",
      "AVG_READING_8_SCORE             66.621984\n",
      "dtype: float64\n"
     ]
    }
   ],
   "source": [
    "fill_na('GRADES_9_12_G')"
   ]
  },
  {
   "cell_type": "code",
   "execution_count": 138,
   "metadata": {},
   "outputs": [
    {
     "data": {
      "image/png": "[encoded data removed]",
      "text/plain": [
       "<Figure size 432x288 with 1 Axes>"
      ]
     },
     "metadata": {
      "needs_background": "light"
     },
     "output_type": "display_data"
    },
    {
     "name": "stdout",
     "output_type": "stream",
     "text": [
      "PRIMARY_KEY                      0.000000\n",
      "STATE                            0.000000\n",
      "YEAR                             0.000000\n",
      "ENROLL                           0.000000\n",
      "TOTAL_REVENUE                    0.000000\n",
      "FEDERAL_REVENUE                  0.000000\n",
      "STATE_REVENUE                    0.000000\n",
      "LOCAL_REVENUE                    0.000000\n",
      "TOTAL_EXPENDITURE                0.000000\n",
      "INSTRUCTION_EXPENDITURE          0.000000\n",
      "SUPPORT_SERVICES_EXPENDITURE     0.000000\n",
      "OTHER_EXPENDITURE                0.000000\n",
      "CAPITAL_OUTLAY_EXPENDITURE       0.000000\n",
      "GRADES_PK_G                      0.000000\n",
      "GRADES_KG_G                      0.000000\n",
      "GRADES_4_G                       0.000000\n",
      "GRADES_8_G                       0.000000\n",
      "GRADES_12_G                      0.000000\n",
      "GRADES_1_8_G                     0.000000\n",
      "GRADES_9_12_G                    0.000000\n",
      "GRADES_ALL_G                     0.000000\n",
      "AVG_MATH_4_SCORE                64.075067\n",
      "AVG_MATH_8_SCORE                64.343164\n",
      "AVG_READING_4_SCORE             64.276139\n",
      "AVG_READING_8_SCORE             66.621984\n",
      "dtype: float64\n"
     ]
    }
   ],
   "source": [
    "fill_na('GRADES_ALL_G')"
   ]
  },
  {
   "cell_type": "code",
   "execution_count": 142,
   "metadata": {},
   "outputs": [],
   "source": [
    "# last 4 columns have over 60% missign values so we will drop them \n",
    "df_copy = df_copy.drop(['AVG_MATH_4_SCORE','AVG_MATH_8_SCORE','AVG_READING_4_SCORE', 'AVG_READING_8_SCORE'], axis=1)"
   ]
  },
  {
   "cell_type": "code",
   "execution_count": 143,
   "metadata": {},
   "outputs": [
    {
     "name": "stdout",
     "output_type": "stream",
     "text": [
      "PRIMARY_KEY                     0.0\n",
      "STATE                           0.0\n",
      "YEAR                            0.0\n",
      "ENROLL                          0.0\n",
      "TOTAL_REVENUE                   0.0\n",
      "FEDERAL_REVENUE                 0.0\n",
      "STATE_REVENUE                   0.0\n",
      "LOCAL_REVENUE                   0.0\n",
      "TOTAL_EXPENDITURE               0.0\n",
      "INSTRUCTION_EXPENDITURE         0.0\n",
      "SUPPORT_SERVICES_EXPENDITURE    0.0\n",
      "OTHER_EXPENDITURE               0.0\n",
      "CAPITAL_OUTLAY_EXPENDITURE      0.0\n",
      "GRADES_PK_G                     0.0\n",
      "GRADES_KG_G                     0.0\n",
      "GRADES_4_G                      0.0\n",
      "GRADES_8_G                      0.0\n",
      "GRADES_12_G                     0.0\n",
      "GRADES_1_8_G                    0.0\n",
      "GRADES_9_12_G                   0.0\n",
      "GRADES_ALL_G                    0.0\n",
      "dtype: float64\n"
     ]
    }
   ],
   "source": [
    "print(df_copy.isnull().sum()*100/df_copy.isnull().count())"
   ]
  },
  {
   "cell_type": "markdown",
   "metadata": {},
   "source": [
    "### 3. Now, take into account the time factor. Replicate your second answer but this time fill in the missing values by using a statistic that is calculated within the year of the observation. For example, if you want to fill a missing value for a variable with the mean of that variable, calculate the mean by using only the observations for that specific year."
   ]
  },
  {
   "cell_type": "code",
   "execution_count": 243,
   "metadata": {},
   "outputs": [],
   "source": [
    "df_copy2 = dsbc_df.copy()\n",
    "\n",
    "def fill_na_year(col):\n",
    "    df_copy[col].hist()\n",
    "    df_copy[col].fillna(df_copy[col].median(), inplace=True)\n",
    "    plt.show()\n",
    "    print(df_copy.isnull().sum()*100/df_copy.isnull().count())\n"
   ]
  },
  {
   "cell_type": "code",
   "execution_count": 244,
   "metadata": {},
   "outputs": [
    {
     "data": {
      "text/plain": [
       "556477.5"
      ]
     },
     "execution_count": 244,
     "metadata": {},
     "output_type": "execute_result"
    }
   ],
   "source": [
    "years_medians = df_copy2.groupby(by='YEAR').median()\n",
    "years_list = list(years_medians.index)\n",
    "years_medians.GRADES_ALL_G.values[0]"
   ]
  },
  {
   "cell_type": "code",
   "execution_count": 245,
   "metadata": {},
   "outputs": [
    {
     "name": "stdout",
     "output_type": "stream",
     "text": [
      "PRIMARY_KEY                      0.000000\n",
      "STATE                            0.000000\n",
      "YEAR                             0.000000\n",
      "ENROLL                          13.873995\n",
      "TOTAL_REVENUE                   14.209115\n",
      "FEDERAL_REVENUE                 14.209115\n",
      "STATE_REVENUE                   14.209115\n",
      "LOCAL_REVENUE                   14.209115\n",
      "TOTAL_EXPENDITURE               14.209115\n",
      "INSTRUCTION_EXPENDITURE         14.209115\n",
      "SUPPORT_SERVICES_EXPENDITURE    14.209115\n",
      "OTHER_EXPENDITURE               17.627346\n",
      "CAPITAL_OUTLAY_EXPENDITURE      14.209115\n",
      "GRADES_PK_G                     11.595174\n",
      "GRADES_KG_G                      8.847185\n",
      "GRADES_4_G                       8.780161\n",
      "GRADES_8_G                       8.780161\n",
      "GRADES_12_G                      8.780161\n",
      "GRADES_1_8_G                     8.780161\n",
      "GRADES_9_12_G                    8.780161\n",
      "GRADES_ALL_G                    11.595174\n",
      "AVG_MATH_4_SCORE                64.075067\n",
      "AVG_MATH_8_SCORE                64.343164\n",
      "AVG_READING_4_SCORE             64.276139\n",
      "AVG_READING_8_SCORE             66.621984\n",
      "dtype: float64\n"
     ]
    }
   ],
   "source": [
    "index_1992 = list(df_copy2.ENROLL[df_copy2.YEAR == 1992].index)\n",
    "for i in index_1992:\n",
    "    df_copy2.ENROLL[i] = years_medians.GRADES_ALL_G.values[0]\n",
    "print(df_copy2.isnull().sum()*100/df_copy2.isnull().count())\n",
    "years_list.remove(1992)"
   ]
  },
  {
   "cell_type": "code",
   "execution_count": 246,
   "metadata": {},
   "outputs": [
    {
     "data": {
      "text/plain": [
       "['ENROLL',\n",
       " 'TOTAL_REVENUE',\n",
       " 'FEDERAL_REVENUE',\n",
       " 'STATE_REVENUE',\n",
       " 'LOCAL_REVENUE',\n",
       " 'TOTAL_EXPENDITURE',\n",
       " 'INSTRUCTION_EXPENDITURE',\n",
       " 'SUPPORT_SERVICES_EXPENDITURE',\n",
       " 'OTHER_EXPENDITURE',\n",
       " 'CAPITAL_OUTLAY_EXPENDITURE',\n",
       " 'GRADES_PK_G',\n",
       " 'GRADES_KG_G',\n",
       " 'GRADES_4_G',\n",
       " 'GRADES_8_G',\n",
       " 'GRADES_12_G',\n",
       " 'GRADES_1_8_G',\n",
       " 'GRADES_9_12_G',\n",
       " 'GRADES_ALL_G']"
      ]
     },
     "execution_count": 246,
     "metadata": {},
     "output_type": "execute_result"
    }
   ],
   "source": [
    "cols = list(df_copy2.columns)\n",
    "cols.remove('PRIMARY_KEY')\n",
    "cols.remove('STATE')\n",
    "cols.remove('YEAR')\n",
    "cols.remove('AVG_MATH_4_SCORE')\n",
    "cols.remove('AVG_MATH_8_SCORE')\n",
    "cols.remove('AVG_READING_4_SCORE')\n",
    "cols.remove('AVG_READING_8_SCORE')\n",
    "cols"
   ]
  },
  {
   "cell_type": "code",
   "execution_count": 247,
   "metadata": {},
   "outputs": [
    {
     "name": "stdout",
     "output_type": "stream",
     "text": [
      "PRIMARY_KEY                      0.000000\n",
      "STATE                            0.000000\n",
      "YEAR                             0.000000\n",
      "ENROLL                           3.753351\n",
      "TOTAL_REVENUE                    0.335121\n",
      "FEDERAL_REVENUE                  0.335121\n",
      "STATE_REVENUE                    0.335121\n",
      "LOCAL_REVENUE                    0.335121\n",
      "TOTAL_EXPENDITURE                0.335121\n",
      "INSTRUCTION_EXPENDITURE          0.335121\n",
      "SUPPORT_SERVICES_EXPENDITURE     0.335121\n",
      "OTHER_EXPENDITURE                7.506702\n",
      "CAPITAL_OUTLAY_EXPENDITURE       0.335121\n",
      "GRADES_PK_G                      3.552279\n",
      "GRADES_KG_G                      3.418231\n",
      "GRADES_4_G                       3.418231\n",
      "GRADES_8_G                       3.418231\n",
      "GRADES_12_G                      3.418231\n",
      "GRADES_1_8_G                     3.418231\n",
      "GRADES_9_12_G                    3.418231\n",
      "GRADES_ALL_G                     3.552279\n",
      "AVG_MATH_4_SCORE                64.075067\n",
      "AVG_MATH_8_SCORE                64.343164\n",
      "AVG_READING_4_SCORE             64.276139\n",
      "AVG_READING_8_SCORE             66.621984\n",
      "dtype: float64\n"
     ]
    }
   ],
   "source": [
    "for col in cols:\n",
    "    j = 0\n",
    "    for year in years_list:\n",
    "        na_year_index = list(df_copy2[col][df_copy2.YEAR == year].index)\n",
    "        for i in na_year_index:\n",
    "            df_copy2[col][i] = years_medians[col].values[j]\n",
    "        j += 1\n",
    "print(df_copy2.isnull().sum()*100/df_copy2.isnull().count())"
   ]
  },
  {
   "cell_type": "markdown",
   "metadata": {},
   "source": [
    "### 4. This time, fill in the missing values using interpolation (extrapolation)."
   ]
  },
  {
   "cell_type": "code",
   "execution_count": 248,
   "metadata": {},
   "outputs": [],
   "source": [
    "df_copy3 = dsbc_df.copy()"
   ]
  },
  {
   "cell_type": "code",
   "execution_count": 249,
   "metadata": {},
   "outputs": [],
   "source": [
    "for col in cols:\n",
    "    df_copy3[col].interpolate(inplace=True)\n"
   ]
  },
  {
   "cell_type": "code",
   "execution_count": 250,
   "metadata": {},
   "outputs": [
    {
     "name": "stdout",
     "output_type": "stream",
     "text": [
      "PRIMARY_KEY                      0.000000\n",
      "STATE                            0.000000\n",
      "YEAR                             0.000000\n",
      "ENROLL                           2.412869\n",
      "TOTAL_REVENUE                    0.000000\n",
      "FEDERAL_REVENUE                  0.000000\n",
      "STATE_REVENUE                    0.000000\n",
      "LOCAL_REVENUE                    0.000000\n",
      "TOTAL_EXPENDITURE                0.000000\n",
      "INSTRUCTION_EXPENDITURE          0.000000\n",
      "SUPPORT_SERVICES_EXPENDITURE     0.000000\n",
      "OTHER_EXPENDITURE                2.412869\n",
      "CAPITAL_OUTLAY_EXPENDITURE       0.000000\n",
      "GRADES_PK_G                      0.000000\n",
      "GRADES_KG_G                      0.000000\n",
      "GRADES_4_G                       0.000000\n",
      "GRADES_8_G                       0.000000\n",
      "GRADES_12_G                      0.000000\n",
      "GRADES_1_8_G                     0.000000\n",
      "GRADES_9_12_G                    0.000000\n",
      "GRADES_ALL_G                     0.000000\n",
      "AVG_MATH_4_SCORE                64.075067\n",
      "AVG_MATH_8_SCORE                64.343164\n",
      "AVG_READING_4_SCORE             64.276139\n",
      "AVG_READING_8_SCORE             66.621984\n",
      "dtype: float64\n"
     ]
    }
   ],
   "source": [
    "print(df_copy3.isnull().sum()*100/df_copy3.isnull().count())"
   ]
  },
  {
   "cell_type": "markdown",
   "metadata": {},
   "source": [
    "### 5. Compare your results for the 2nd, 3rd, and 4th questions. Do you find any meaningful differences?\n",
    "Median by year is the most different but it could be a problem with my code."
   ]
  },
  {
   "cell_type": "code",
   "execution_count": 251,
   "metadata": {},
   "outputs": [
    {
     "data": {
      "image/png": "[encoded data removed]",
      "text/plain": [
       "<Figure size 432x288 with 1 Axes>"
      ]
     },
     "metadata": {
      "needs_background": "light"
     },
     "output_type": "display_data"
    },
    {
     "data": {
      "image/png": "[encoded data removed]",
      "text/plain": [
       "<Figure size 432x288 with 1 Axes>"
      ]
     },
     "metadata": {
      "needs_background": "light"
     },
     "output_type": "display_data"
    },
    {
     "data": {
      "image/png": "[encoded data removed]",
      "text/plain": [
       "<Figure size 432x288 with 1 Axes>"
      ]
     },
     "metadata": {
      "needs_background": "light"
     },
     "output_type": "display_data"
    },
    {
     "data": {
      "image/png": "[encoded data removed]",
      "text/plain": [
       "<Figure size 432x288 with 1 Axes>"
      ]
     },
     "metadata": {
      "needs_background": "light"
     },
     "output_type": "display_data"
    },
    {
     "data": {
      "image/png": "[encoded data removed]",
      "text/plain": [
       "<Figure size 432x288 with 1 Axes>"
      ]
     },
     "metadata": {
      "needs_background": "light"
     },
     "output_type": "display_data"
    },
    {
     "data": {
      "image/png": "[encoded data removed]",
      "text/plain": [
       "<Figure size 432x288 with 1 Axes>"
      ]
     },
     "metadata": {
      "needs_background": "light"
     },
     "output_type": "display_data"
    },
    {
     "data": {
      "image/png": "[encoded data removed]",
      "text/plain": [
       "<Figure size 432x288 with 1 Axes>"
      ]
     },
     "metadata": {
      "needs_background": "light"
     },
     "output_type": "display_data"
    },
    {
     "data": {
      "image/png": "[encoded data removed]",
      "text/plain": [
       "<Figure size 432x288 with 1 Axes>"
      ]
     },
     "metadata": {
      "needs_background": "light"
     },
     "output_type": "display_data"
    },
    {
     "data": {
      "image/png": "[encoded data removed]",
      "text/plain": [
       "<Figure size 432x288 with 1 Axes>"
      ]
     },
     "metadata": {
      "needs_background": "light"
     },
     "output_type": "display_data"
    },
    {
     "data": {
      "image/png": "[encoded data removed]",
      "text/plain": [
       "<Figure size 432x288 with 1 Axes>"
      ]
     },
     "metadata": {
      "needs_background": "light"
     },
     "output_type": "display_data"
    },
    {
     "data": {
      "image/png": "[encoded data removed]",
      "text/plain": [
       "<Figure size 432x288 with 1 Axes>"
      ]
     },
     "metadata": {
      "needs_background": "light"
     },
     "output_type": "display_data"
    },
    {
     "data": {
      "image/png": "[encoded data removed]",
      "text/plain": [
       "<Figure size 432x288 with 1 Axes>"
      ]
     },
     "metadata": {
      "needs_background": "light"
     },
     "output_type": "display_data"
    },
    {
     "data": {
      "image/png": "[encoded data removed]",
      "text/plain": [
       "<Figure size 432x288 with 1 Axes>"
      ]
     },
     "metadata": {
      "needs_background": "light"
     },
     "output_type": "display_data"
    },
    {
     "data": {
      "image/png": "[encoded data removed]",
      "text/plain": [
       "<Figure size 432x288 with 1 Axes>"
      ]
     },
     "metadata": {
      "needs_background": "light"
     },
     "output_type": "display_data"
    },
    {
     "data": {
      "image/png": "[encoded data removed]",
      "text/plain": [
       "<Figure size 432x288 with 1 Axes>"
      ]
     },
     "metadata": {
      "needs_background": "light"
     },
     "output_type": "display_data"
    },
    {
     "data": {
      "image/png": "[encoded data removed]",
      "text/plain": [
       "<Figure size 432x288 with 1 Axes>"
      ]
     },
     "metadata": {
      "needs_background": "light"
     },
     "output_type": "display_data"
    },
    {
     "data": {
      "image/png": "[encoded data removed]",
      "text/plain": [
       "<Figure size 432x288 with 1 Axes>"
      ]
     },
     "metadata": {
      "needs_background": "light"
     },
     "output_type": "display_data"
    },
    {
     "data": {
      "image/png": "[encoded data removed]",
      "text/plain": [
       "<Figure size 432x288 with 1 Axes>"
      ]
     },
     "metadata": {
      "needs_background": "light"
     },
     "output_type": "display_data"
    }
   ],
   "source": [
    "for col in cols:\n",
    "    plt.figure()\n",
    "    plt.hist(df_copy[col], alpha=0.5)\n",
    "    plt.hist(df_copy2[col], alpha=0.5)\n",
    "    plt.hist(df_copy3[col], alpha=0.5)\n",
    "    plt.legend(['Overall median', 'Median by year', 'Interpolation'])"
   ]
  },
  {
   "cell_type": "code",
   "execution_count": null,
   "metadata": {},
   "outputs": [],
   "source": []
  }
 ],
 "metadata": {
  "kernelspec": {
   "display_name": "Python 3",
   "language": "python",
   "name": "python3"
  },
  "language_info": {
   "codemirror_mode": {
    "name": "ipython",
    "version": 3
   },
   "file_extension": ".py",
   "mimetype": "text/x-python",
   "name": "python",
   "nbconvert_exporter": "python",
   "pygments_lexer": "ipython3",
   "version": "3.8.5"
  }
 },
 "nbformat": 4,
 "nbformat_minor": 4
}
